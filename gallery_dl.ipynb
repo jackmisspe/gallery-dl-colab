{
  "nbformat": 4,
  "nbformat_minor": 0,
  "metadata": {
    "colab": {
      "provenance": [],
      "include_colab_link": true
    },
    "kernelspec": {
      "name": "python3",
      "display_name": "Python 3"
    },
    "language_info": {
      "name": "python"
    }
  },
  "cells": [
    {
      "cell_type": "markdown",
      "metadata": {
        "id": "view-in-github",
        "colab_type": "text"
      },
      "source": [
        "<a href=\"https://colab.research.google.com/github/jackmisspe/gallery-dl-colab/blob/main/gallery_dl.ipynb\" target=\"_parent\"><img src=\"https://colab.research.google.com/assets/colab-badge.svg\" alt=\"Open In Colab\"/></a>"
      ]
    },
    {
      "cell_type": "markdown",
      "source": [
        "Gallery-dl run on google colab. Can download and move files to google drive directly.<br><h2>gallery-dl credit: https://github.com/mikf/gallery-dl</h2>\n",
        "\n"
      ],
      "metadata": {
        "id": "qcM_7GygsDcl"
      }
    },
    {
      "cell_type": "markdown",
      "source": [
        "#Set Up"
      ],
      "metadata": {
        "id": "0tlgXzqtuXyy"
      }
    },
    {
      "cell_type": "code",
      "execution_count": null,
      "metadata": {
        "cellView": "form",
        "id": "e-dRtfk5MiRr"
      },
      "outputs": [],
      "source": [
        "#@markdown <h3>⬅ Run This Cell to  Mount Gdrive\n",
        "from google.colab import drive\n",
        "drive.mount('/content/drive')"
      ]
    },
    {
      "cell_type": "code",
      "source": [
        "#@markdown <h3>⬅️ Run This Cell to Install gallery-dl Requirements</h3>\n",
        "import random, string, urllib.request, json, getpass, os, IPython, uuid\n",
        "import ipywidgets as widgets\n",
        "\n",
        "from IPython.display import HTML, clear_output\n",
        "\n",
        "loadingBtn = widgets.Button(description = \"Installing\",\n",
        "                          disabled = True,\n",
        "                          button_style = 'warning', # 'success', 'info', 'warning', 'danger' or '' \n",
        "                          tooltip = \"Installing\",\n",
        "                          icon = 'check')\n",
        "display(loadingBtn)\n",
        "\n",
        "if not os.path.exists(\"/opt/python3.7\"):\n",
        "  get_ipython().system_raw(\"rm -rf /content/sample_data/ && sudo apt update && sudo apt install software-properties-common\")\n",
        "  get_ipython().system_raw(\"sudo add-apt-repository ppa:deadsnakes/ppa\")\n",
        "  get_ipython().system_raw(\"sudo apt install python3.7\")\n",
        "  get_ipython().system_raw(\"sudo apt install python3-pip\")\n",
        "  get_ipython().system_raw(\"python3.7 -m pip install --upgrade pip setuptools wheel\")\n",
        "  clear_output()\n",
        "\n",
        "try:\n",
        "  get_ipython().system_raw(\"python3.7 -m pip install -U -I --no-deps --no-cache-dir https://github.com/mikf/gallery-dl/archive/master.tar.gz\")\n",
        "  display(HTML(\"<center><h2 style=\\\"font-family:Trebuchet MS;color:#4f8bd6;\\\">Successfully Configured!</h2><br></center>\"))\n",
        "  \n",
        "except:\n",
        "  display(HTML(\"<center><h2 style=\\\"font-family:Trebuchet MS;color:#ff0000;\\\">Error Occured, Rerun the Cell!!</h2><br></center>\"))"
      ],
      "metadata": {
        "cellView": "form",
        "id": "RBPc5oGKMjZU"
      },
      "execution_count": null,
      "outputs": []
    },
    {
      "cell_type": "markdown",
      "source": [
        "#Download Images\n"
      ],
      "metadata": {
        "id": "4wxNI_YOuPFR"
      }
    },
    {
      "cell_type": "code",
      "source": [
        "#@markdown <h3>⬅️ Run this Cell to Upload a File for Bulk Downloads - Individual Images</h3>\n",
        "import os\n",
        "import shutil \n",
        "import glob\n",
        "from google.colab import files\n",
        "from datetime import datetime\n",
        "from pathlib import Path\n",
        "import IPython\n",
        "\n",
        "\n",
        "!rm *.txt\n",
        "uploaded = files.upload()\n",
        "direct = ''\n",
        "try:\n",
        "  direct = datetime.now().strftime(\"%Y-%m-%d-%H-%M-%S\")\n",
        "except:\n",
        "  display(HTML(\"<center><h2 style=\\\"font-family:Trebuchet MS;color:#4f8bd6;\\\">Failed to Set Time!</h2><br></center>\")) \n",
        "src_dir = 'gallery-dl'\n",
        "dst_dir = f'tomove/{direct}'\n",
        "final = ''\n",
        "\n",
        "for txt in glob.glob('*.txt'):\n",
        "  with open(txt) as f:\n",
        "    grl = f.readlines()[1]\n",
        "    tmp = grl.partition(' Photo')[0]\n",
        "    final = tmp.partition('Title: ')[2]\n",
        "    grldir = f'tomove/{final}'\n",
        "    print(grldir)\n",
        "  !gallery-dl -i \"$txt\"\n",
        "\n",
        "  if not os.path.exists('tomove'):\n",
        "    os.mkdir('tomove')\n",
        "  if not os.path.exists(grldir):\n",
        "    os.mkdir(grldir)\n",
        "  os.mkdir(dst_dir)\n",
        "\n",
        "  try:\n",
        "    for jpgfile in glob.iglob(os.path.join(src_dir, \"*\", \"**.jpg\")):\n",
        "      shutil.move(jpgfile, dst_dir)\n",
        "  except:\n",
        "    display(HTML(\"<center><h2 style=\\\"font-family:Trebuchet MS;color:#4f8bd6;\\\">Failed to Move!</h2><br></center>\")) \n",
        "  try:\n",
        "      string = f'{txt}'.partition('.txt')[0]\n",
        "      shutil.move(txt, dst_dir)\n",
        "      os.rename(dst_dir, f'{grldir}/{string}')\n",
        "      from google.colab import output\n",
        "      output.clear()\n",
        "      display(HTML(\"<center><h2 style=\\\"font-family:Trebuchet MS;color:#4f8bd6;\\\">Finished!</h2><br></center>\")) \n",
        "  except:\n",
        "    display(HTML(\"<center><h2 style=\\\"font-family:Trebuchet MS;color:#4f8bd6;\\\">Failed to Move!</h2><br></center>\")) \n"
      ],
      "metadata": {
        "id": "7OPEDik85lZA",
        "cellView": "form"
      },
      "execution_count": null,
      "outputs": []
    },
    {
      "cell_type": "code",
      "source": [
        "#@markdown <h3>⬅️ Run this Cell to Upload a File for Bulk Downloads - Galleries</h3>\n",
        "import os\n",
        "import shutil \n",
        "import glob\n",
        "from google.colab import files\n",
        "from pathlib import Path\n",
        "import IPython\n",
        "\n",
        "\n",
        "!rm *.txt\n",
        "uploaded = files.upload()\n",
        "\n",
        "for txt in glob.glob('*.txt'):\n",
        "  !gallery-dl -i \"$txt\"\n",
        "  !rm \"$txt\"\n",
        "\n",
        "  if not os.path.exists('tomove'):\n",
        "    os.mkdir('tomove')\n",
        "  try:\n",
        "    for folder in glob.glob(\"gallery-dl/*/\", recursive = True):\n",
        "      shutil.move(folder, 'tomove')\n",
        "    from google.colab import output\n",
        "    output.clear()\n",
        "    display(HTML(\"<center><h2 style=\\\"font-family:Trebuchet MS;color:#4f8bd6;\\\">Finished!</h2><br></center>\")) \n",
        "  except:\n",
        "    display(HTML(\"<center><h2 style=\\\"font-family:Trebuchet MS;color:#4f8bd6;\\\">Failed to Move!</h2><br></center>\")) \n",
        "\n"
      ],
      "metadata": {
        "cellView": "form",
        "id": "OwJg06gr2ej4"
      },
      "execution_count": null,
      "outputs": []
    },
    {
      "cell_type": "code",
      "source": [
        "#@markdown <h3>⬅️ Run this Cell to Download Single URL</h3>\n",
        "url = \"\" #@param {type:\"string\"}\n",
        "direct = ''\n",
        "try:\n",
        "  direct = datetime.now().strftime(\"%Y-%m-%d-%H-%M-%S\")\n",
        "except:\n",
        "  display(HTML(\"<center><h2 style=\\\"font-family:Trebuchet MS;color:#4f8bd6;\\\">Failed to Set Time!</h2><br></center>\")) \n",
        "src_dir = 'gallery-dl'\n",
        "dst_dir = f'tomove/{direct}'\n",
        "\n",
        "!gallery-dl \"$url\" \n",
        "\n",
        "if not os.path.exists('tomove'):\n",
        "  os.mkdir('tomove')\n",
        "os.mkdir(dst_dir)\n",
        "try:\n",
        "  for jpgfile in glob.iglob(os.path.join(src_dir, \"*\", \"**.jpg\")):\n",
        "    shutil.move(jpgfile, dst_dir)\n",
        "    from google.colab import output\n",
        "    output.clear()\n",
        "    display(HTML(\"<center><h2 style=\\\"font-family:Trebuchet MS;color:#4f8bd6;\\\">Finished!</h2><br></center>\")) \n",
        "except:\n",
        "  display(HTML(\"<center><h2 style=\\\"font-family:Trebuchet MS;color:#4f8bd6;\\\">Failed to Move!</h2><br></center>\")) "
      ],
      "metadata": {
        "id": "ElgijeYjOO8G"
      },
      "execution_count": null,
      "outputs": []
    },
    {
      "cell_type": "markdown",
      "source": [
        "# Move to GDrive\n"
      ],
      "metadata": {
        "id": "Ht9Intq6ugde"
      }
    },
    {
      "cell_type": "code",
      "source": [
        "#@markdown <h3>⬅️ Run this Cell to Rename Images</h3>\n",
        "import os\n",
        "from pathlib import Path\n",
        "import glob\n",
        "\n",
        "\n",
        "files = glob.glob('**/*.jpg', recursive = True)\n",
        "files.sort(key=os.path.getmtime)\n",
        "i = 0\n",
        "cwd_old = ''\n",
        "for file in files: \n",
        "    cwd = Path(file).parent\n",
        "    if cwd_old != cwd:\n",
        "      cwd_old = cwd\n",
        "      print(f'New Directory - {cwd_old}')\n",
        "      i = 0\n",
        "    i += 1\n",
        "    if i < 10:\n",
        "      new_name = f'Image_0{i}.jpg'\n",
        "    else:\n",
        "      new_name = f'Image_{i}.jpg'\n",
        "    os.rename(file, os.path.join(cwd, new_name))"
      ],
      "metadata": {
        "id": "OgM_g-wO4NPv"
      },
      "execution_count": null,
      "outputs": []
    },
    {
      "cell_type": "code",
      "source": [
        "#@markdown <h3>⬅️ Run This Cell to Move Downloaded Images to Gdrive\n",
        "!rsync -av /content/tomove/ \"/content/drive/My Drive/gallery-dl\"\n",
        "!rm -rf /content/tomove/"
      ],
      "metadata": {
        "id": "EsXfEzmvN-Vi"
      },
      "execution_count": null,
      "outputs": []
    }
  ]
}